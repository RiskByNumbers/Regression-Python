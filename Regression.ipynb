{
 "cells": [
  {
   "cell_type": "code",
   "execution_count": 1,
   "metadata": {},
   "outputs": [
    {
     "name": "stdout",
     "output_type": "stream",
     "text": [
      "          x1         x2          y\n",
      "0   3.064710   6.799351  19.539787\n",
      "1   8.662211   5.177079  32.544799\n",
      "2   3.558543   9.637783  18.139693\n",
      "3   8.320039  13.340415  22.566879\n",
      "4   7.482303   3.352992  31.770764\n",
      "5   4.425246   9.423697  18.942667\n",
      "6   6.592693   9.571301  21.610805\n",
      "7   1.367884   7.813275  13.182695\n",
      "8   1.470329   4.592275  19.781764\n",
      "9   8.113782   8.182681  27.706600\n",
      "10  8.106076  13.351301  21.915612\n",
      "11  4.323920   5.326015  23.737483\n",
      "12  0.811980  13.834745   5.234168\n",
      "13  3.851789   6.620045  21.045225\n",
      "14  7.038050   7.635967  25.038879\n",
      "15  0.096878  14.385837   6.353449\n",
      "16  8.275902  11.746995  25.920937\n",
      "17  0.407700   3.808918  15.559531\n",
      "18  7.403751  14.900942  19.665290\n",
      "19  3.931122   7.975347  21.780109\n",
      "20  5.090712   9.244410  21.236082\n",
      "21  5.882338   6.143854  25.100181\n",
      "22  4.162991   5.454736  23.413761\n",
      "23  7.300757  12.579513  22.244632\n",
      "24  6.069065   8.346753  22.369987\n",
      "25  5.763634   3.259713  27.564240\n",
      "26  4.332696   7.803195  19.187851\n",
      "27  7.660694   4.439429  29.087954\n",
      "28  5.400750  11.772150  18.959003\n",
      "29  2.143419   6.884476  18.619707\n",
      "30  5.766829  12.153300  18.043367\n",
      "31  7.557408  12.868997  20.414974\n",
      "32  5.042804  11.064335  18.396965\n",
      "33  7.860174   4.687856  30.590030\n",
      "34  3.777471   7.680474  18.585886\n",
      "35  1.024770  12.807109   8.453829\n",
      "36  6.375836   6.370468  25.605212\n",
      "37  2.648437   9.813389  14.090647\n",
      "38  8.898597   8.517651  30.456930\n",
      "39  2.222060   5.442644  18.011349\n",
      "40  6.706631   7.316333  26.180236\n",
      "41  2.953438   7.821129  18.045295\n",
      "42  7.833666   4.702018  31.811529\n",
      "43  6.041525   4.867950  24.938573\n",
      "44  4.747596   3.267574  26.083743\n",
      "45  4.389530   8.965310  18.725773\n",
      "46  7.598164   9.405650  26.194556\n",
      "47  4.920542   3.360358  26.617082\n",
      "48  3.356940   8.172135  17.130152\n",
      "49  4.796653  13.484740  16.224846\n"
     ]
    }
   ],
   "source": [
    "#Step 1a: (1) import pandas; (2) read csv file as a dataframe; (3) print data to check its format\n",
    "import pandas as pd\n",
    "df = pd.read_csv('data.csv')\n",
    "print(df)"
   ]
  },
  {
   "cell_type": "code",
   "execution_count": 2,
   "metadata": {},
   "outputs": [],
   "source": [
    "#Step 1b: define our dependent (y) and independent (x) variables from our dataframe\n",
    "y = df['y']\n",
    "x = df[['x1','x2']]"
   ]
  },
  {
   "cell_type": "code",
   "execution_count": 3,
   "metadata": {},
   "outputs": [
    {
     "data": {
      "image/png": "[encoded data removed]",
      "text/plain": [
       "<Figure size 288x216 with 1 Axes>"
      ]
     },
     "metadata": {
      "needs_background": "light"
     },
     "output_type": "display_data"
    },
    {
     "data": {
      "image/png": "[encoded data removed]",
      "text/plain": [
       "<Figure size 288x288 with 9 Axes>"
      ]
     },
     "metadata": {
      "needs_background": "light"
     },
     "output_type": "display_data"
    }
   ],
   "source": [
    "#Step 2: Visualize relationships. \n",
    "    #For example, are x1 and x2 correlated (i.e., collinearity), which is important for model estimation? \n",
    "    #We can do so thru two means: (1) via matplotlib, we initialize and create a scatter plot figure that we 'show'; \n",
    "    #(2) we can create a scatter matrix between our variables of interest.\n",
    "import matplotlib.pyplot as plt\n",
    "plt.figure(figsize=(4, 3))\n",
    "plt.scatter(df['x1'],df['y'])\n",
    "pd.plotting.scatter_matrix(df[['y','x1','x2']],figsize=(4, 4))\n",
    "plt.show()"
   ]
  },
  {
   "cell_type": "code",
   "execution_count": 4,
   "metadata": {},
   "outputs": [
    {
     "data": {
      "text/html": [
       "<table class=\"simpletable\">\n",
       "<caption>OLS Regression Results</caption>\n",
       "<tr>\n",
       "  <th>Dep. Variable:</th>            <td>y</td>        <th>  R-squared:         </th> <td>   0.972</td>\n",
       "</tr>\n",
       "<tr>\n",
       "  <th>Model:</th>                   <td>OLS</td>       <th>  Adj. R-squared:    </th> <td>   0.970</td>\n",
       "</tr>\n",
       "<tr>\n",
       "  <th>Method:</th>             <td>Least Squares</td>  <th>  F-statistic:       </th> <td>   801.2</td>\n",
       "</tr>\n",
       "<tr>\n",
       "  <th>Date:</th>             <td>Sat, 08 Jun 2024</td> <th>  Prob (F-statistic):</th> <td>4.87e-37</td>\n",
       "</tr>\n",
       "<tr>\n",
       "  <th>Time:</th>                 <td>20:36:38</td>     <th>  Log-Likelihood:    </th> <td> -71.413</td>\n",
       "</tr>\n",
       "<tr>\n",
       "  <th>No. Observations:</th>      <td>    50</td>      <th>  AIC:               </th> <td>   148.8</td>\n",
       "</tr>\n",
       "<tr>\n",
       "  <th>Df Residuals:</th>          <td>    47</td>      <th>  BIC:               </th> <td>   154.6</td>\n",
       "</tr>\n",
       "<tr>\n",
       "  <th>Df Model:</th>              <td>     2</td>      <th>                     </th>     <td> </td>   \n",
       "</tr>\n",
       "<tr>\n",
       "  <th>Covariance Type:</th>      <td>nonrobust</td>    <th>                     </th>     <td> </td>   \n",
       "</tr>\n",
       "</table>\n",
       "<table class=\"simpletable\">\n",
       "<tr>\n",
       "    <td></td>       <th>coef</th>     <th>std err</th>      <th>t</th>      <th>P>|t|</th>  <th>[0.025</th>    <th>0.975]</th>  \n",
       "</tr>\n",
       "<tr>\n",
       "  <th>const</th> <td>   19.7007</td> <td>    0.507</td> <td>   38.824</td> <td> 0.000</td> <td>   18.680</td> <td>   20.721</td>\n",
       "</tr>\n",
       "<tr>\n",
       "  <th>x1</th>    <td>    2.0334</td> <td>    0.062</td> <td>   32.875</td> <td> 0.000</td> <td>    1.909</td> <td>    2.158</td>\n",
       "</tr>\n",
       "<tr>\n",
       "  <th>x2</th>    <td>   -1.0342</td> <td>    0.045</td> <td>  -23.161</td> <td> 0.000</td> <td>   -1.124</td> <td>   -0.944</td>\n",
       "</tr>\n",
       "</table>\n",
       "<table class=\"simpletable\">\n",
       "<tr>\n",
       "  <th>Omnibus:</th>       <td> 0.988</td> <th>  Durbin-Watson:     </th> <td>   2.107</td>\n",
       "</tr>\n",
       "<tr>\n",
       "  <th>Prob(Omnibus):</th> <td> 0.610</td> <th>  Jarque-Bera (JB):  </th> <td>   0.892</td>\n",
       "</tr>\n",
       "<tr>\n",
       "  <th>Skew:</th>          <td> 0.077</td> <th>  Prob(JB):          </th> <td>   0.640</td>\n",
       "</tr>\n",
       "<tr>\n",
       "  <th>Kurtosis:</th>      <td> 2.364</td> <th>  Cond. No.          </th> <td>    35.6</td>\n",
       "</tr>\n",
       "</table><br/><br/>Notes:<br/>[1] Standard Errors assume that the covariance matrix of the errors is correctly specified."
      ],
      "text/plain": [
       "<class 'statsmodels.iolib.summary.Summary'>\n",
       "\"\"\"\n",
       "                            OLS Regression Results                            \n",
       "==============================================================================\n",
       "Dep. Variable:                      y   R-squared:                       0.972\n",
       "Model:                            OLS   Adj. R-squared:                  0.970\n",
       "Method:                 Least Squares   F-statistic:                     801.2\n",
       "Date:                Sat, 08 Jun 2024   Prob (F-statistic):           4.87e-37\n",
       "Time:                        20:36:38   Log-Likelihood:                -71.413\n",
       "No. Observations:                  50   AIC:                             148.8\n",
       "Df Residuals:                      47   BIC:                             154.6\n",
       "Df Model:                           2                                         \n",
       "Covariance Type:            nonrobust                                         \n",
       "==============================================================================\n",
       "                 coef    std err          t      P>|t|      [0.025      0.975]\n",
       "------------------------------------------------------------------------------\n",
       "const         19.7007      0.507     38.824      0.000      18.680      20.721\n",
       "x1             2.0334      0.062     32.875      0.000       1.909       2.158\n",
       "x2            -1.0342      0.045    -23.161      0.000      -1.124      -0.944\n",
       "==============================================================================\n",
       "Omnibus:                        0.988   Durbin-Watson:                   2.107\n",
       "Prob(Omnibus):                  0.610   Jarque-Bera (JB):                0.892\n",
       "Skew:                           0.077   Prob(JB):                        0.640\n",
       "Kurtosis:                       2.364   Cond. No.                         35.6\n",
       "==============================================================================\n",
       "\n",
       "Notes:\n",
       "[1] Standard Errors assume that the covariance matrix of the errors is correctly specified.\n",
       "\"\"\""
      ]
     },
     "execution_count": 4,
     "metadata": {},
     "output_type": "execute_result"
    }
   ],
   "source": [
    "#Step 3: Fit our data to a regression model. We will do so via statsmodels, which has a series of linear models available.\n",
    "    #Here we (1) import statsmodel; (2) add a constant should we want an intercept term; (3) specify a linear model\n",
    "    #that is estimated via ordinary least squares; and (4) fit the model.\n",
    "import statsmodels.api as sm\n",
    "x = sm.add_constant(x)\n",
    "reg = sm.OLS(y, x)\n",
    "reg_fit = reg.fit()\n",
    "\n",
    "#Step 4: Here we view the summary results for our model. Note that some important metrics of interest include:\n",
    "    #1. R2: A measure of explained variation within our dataset via the model.\n",
    "    #2. Other goodness-of-fit measures: (1) log-likelihood (i.e., likelihood of observing data given the fitted model); (2) Akaike and Bayesian Information Criterion, which extends log-likelihood by including a penalty term based on the number of model parameters\n",
    "    #3. Coefficient estimates, their standard errors (i.e., uncertainty measures), and p-values for statistical inference.\n",
    "    #4. Evaluation of fit according to whether residuals are either normally distributed (e.g., Omnibus and Jarque-Bera) and autocorrelation in residuals (e.g., Durbin-Watson)\n",
    "reg_fit.summary()"
   ]
  },
  {
   "cell_type": "code",
   "execution_count": 5,
   "metadata": {},
   "outputs": [
    {
     "data": {
      "image/png": "[encoded data removed]",
      "text/plain": [
       "<Figure size 144x216 with 1 Axes>"
      ]
     },
     "metadata": {
      "needs_background": "light"
     },
     "output_type": "display_data"
    },
    {
     "data": {
      "image/png": "[encoded data removed]",
      "text/plain": [
       "<Figure size 144x216 with 1 Axes>"
      ]
     },
     "metadata": {
      "needs_background": "light"
     },
     "output_type": "display_data"
    }
   ],
   "source": [
    "#Step 5: Evaluate fit. To evaluate fit, we will store our regression residuals and create a histogram and\n",
    "    #quantile-quantile plot to see that the data follows a normal distribution. \n",
    "residuals = reg_fit.resid\n",
    "plt.rc(\"figure\", figsize=(2,3))\n",
    "plt.hist(residuals, bins = 5)\n",
    "sm.qqplot(residuals, fit = True, line='45')\n",
    "plt.show()"
   ]
  },
  {
   "cell_type": "code",
   "execution_count": 6,
   "metadata": {},
   "outputs": [
    {
     "name": "stdout",
     "output_type": "stream",
     "text": [
      "const    19.700660\n",
      "x1        2.033393\n",
      "x2       -1.034205\n",
      "dtype: float64\n",
      "[23.73242826]\n"
     ]
    }
   ],
   "source": [
    "#Step 6: We can also use our model for prediction. In the below case, we are predicting the expected value of 'y'\n",
    "    #given that x1 and x2 take on the value of 3 and 2, respectively. This is based on our parameter estimates.\n",
    "    #Note that '1' is the first item in our list for the method 'predict()'.\n",
    "    #This is because our first term is our intercept, which should be multipled by 1.\n",
    "print(reg_fit.params)\n",
    "x1, x2 = 3, 2\n",
    "print(reg_fit.predict(([1,x1,x2])))"
   ]
  },
  {
   "cell_type": "code",
   "execution_count": null,
   "metadata": {},
   "outputs": [],
   "source": []
  }
 ],
 "metadata": {
  "kernelspec": {
   "display_name": "Python 3",
   "language": "python",
   "name": "python3"
  },
  "language_info": {
   "codemirror_mode": {
    "name": "ipython",
    "version": 3
   },
   "file_extension": ".py",
   "mimetype": "text/x-python",
   "name": "python",
   "nbconvert_exporter": "python",
   "pygments_lexer": "ipython3",
   "version": "3.8.8"
  }
 },
 "nbformat": 4,
 "nbformat_minor": 4
}
